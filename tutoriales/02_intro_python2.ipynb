{
  "cells": [
    {
      "cell_type": "markdown",
      "metadata": {
        "colab_type": "text",
        "id": "view-in-github"
      },
      "source": [
        "<a href=\"https://colab.research.google.com/github/Argentan/DMA_LAB2/blob/master/tutoriales/02_intro_python2.ipynb\" target=\"_parent\"><img src=\"https://colab.research.google.com/assets/colab-badge.svg\" alt=\"Open In Colab\"/></a>"
      ]
    },
    {
      "cell_type": "markdown",
      "metadata": {
        "colab_type": "text",
        "id": "YkVfvT77robC"
      },
      "source": [
        "# Importación de Librerías\n",
        "\n",
        "Importar una librería entera\n"
      ]
    },
    {
      "cell_type": "code",
      "execution_count": 1,
      "metadata": {
        "colab": {},
        "colab_type": "code",
        "id": "mpw2IhwPruyL"
      },
      "outputs": [],
      "source": [
        "import random"
      ]
    },
    {
      "cell_type": "markdown",
      "metadata": {
        "colab_type": "text",
        "id": "HfzxYBZvsJ7D"
      },
      "source": [
        "Puedo asignar un nombre corto para facilitar la llamada de funciones"
      ]
    },
    {
      "cell_type": "code",
      "execution_count": 2,
      "metadata": {
        "colab": {},
        "colab_type": "code",
        "id": "gXbMrrVVr4g2"
      },
      "outputs": [],
      "source": [
        "import pandas as pd"
      ]
    },
    {
      "cell_type": "markdown",
      "metadata": {
        "colab_type": "text",
        "id": "OrtcQ04ZryEn"
      },
      "source": [
        "Importar solo una función de una librería"
      ]
    },
    {
      "cell_type": "code",
      "execution_count": 3,
      "metadata": {
        "colab": {},
        "colab_type": "code",
        "id": "hxTJMxLLrxd1"
      },
      "outputs": [],
      "source": [
        "from random import sample"
      ]
    },
    {
      "cell_type": "markdown",
      "metadata": {
        "colab_type": "text",
        "id": "-ajBtMAmsQFI"
      },
      "source": [
        "Si no tengo instalada una librería puedo hacerla de varias maneras, la más simple usando **pip** \n",
        "\n",
        "El \"**!**\" lo usamos en Jupyter Notebooks para indicarle que es un comando de consola"
      ]
    },
    {
      "cell_type": "code",
      "execution_count": 4,
      "metadata": {
        "colab": {},
        "colab_type": "code",
        "id": "vdf46sJhsZVn"
      },
      "outputs": [
        {
          "name": "stdout",
          "output_type": "stream",
          "text": [
            "Requirement already satisfied: seaborn in c:\\users\\rodri\\appdata\\local\\packages\\pythonsoftwarefoundation.python.3.10_qbz5n2kfra8p0\\localcache\\local-packages\\python310\\site-packages (0.11.2)\n",
            "Requirement already satisfied: numpy>=1.15 in c:\\users\\rodri\\appdata\\local\\packages\\pythonsoftwarefoundation.python.3.10_qbz5n2kfra8p0\\localcache\\local-packages\\python310\\site-packages (from seaborn) (1.23.5)\n",
            "Requirement already satisfied: scipy>=1.0 in c:\\users\\rodri\\appdata\\local\\packages\\pythonsoftwarefoundation.python.3.10_qbz5n2kfra8p0\\localcache\\local-packages\\python310\\site-packages (from seaborn) (1.8.1)\n",
            "Requirement already satisfied: pandas>=0.23 in c:\\users\\rodri\\appdata\\local\\packages\\pythonsoftwarefoundation.python.3.10_qbz5n2kfra8p0\\localcache\\local-packages\\python310\\site-packages (from seaborn) (1.4.3)\n",
            "Requirement already satisfied: matplotlib>=2.2 in c:\\users\\rodri\\appdata\\local\\packages\\pythonsoftwarefoundation.python.3.10_qbz5n2kfra8p0\\localcache\\local-packages\\python310\\site-packages (from seaborn) (3.5.2)\n",
            "Requirement already satisfied: cycler>=0.10 in c:\\users\\rodri\\appdata\\local\\packages\\pythonsoftwarefoundation.python.3.10_qbz5n2kfra8p0\\localcache\\local-packages\\python310\\site-packages (from matplotlib>=2.2->seaborn) (0.11.0)\n",
            "Requirement already satisfied: fonttools>=4.22.0 in c:\\users\\rodri\\appdata\\local\\packages\\pythonsoftwarefoundation.python.3.10_qbz5n2kfra8p0\\localcache\\local-packages\\python310\\site-packages (from matplotlib>=2.2->seaborn) (4.34.4)\n",
            "Requirement already satisfied: kiwisolver>=1.0.1 in c:\\users\\rodri\\appdata\\local\\packages\\pythonsoftwarefoundation.python.3.10_qbz5n2kfra8p0\\localcache\\local-packages\\python310\\site-packages (from matplotlib>=2.2->seaborn) (1.4.4)\n",
            "Requirement already satisfied: packaging>=20.0 in c:\\users\\rodri\\appdata\\local\\packages\\pythonsoftwarefoundation.python.3.10_qbz5n2kfra8p0\\localcache\\local-packages\\python310\\site-packages (from matplotlib>=2.2->seaborn) (21.3)\n",
            "Requirement already satisfied: pillow>=6.2.0 in c:\\users\\rodri\\appdata\\local\\packages\\pythonsoftwarefoundation.python.3.10_qbz5n2kfra8p0\\localcache\\local-packages\\python310\\site-packages (from matplotlib>=2.2->seaborn) (9.2.0)\n",
            "Requirement already satisfied: pyparsing>=2.2.1 in c:\\users\\rodri\\appdata\\local\\packages\\pythonsoftwarefoundation.python.3.10_qbz5n2kfra8p0\\localcache\\local-packages\\python310\\site-packages (from matplotlib>=2.2->seaborn) (3.0.7)\n",
            "Requirement already satisfied: python-dateutil>=2.7 in c:\\users\\rodri\\appdata\\local\\packages\\pythonsoftwarefoundation.python.3.10_qbz5n2kfra8p0\\localcache\\local-packages\\python310\\site-packages (from matplotlib>=2.2->seaborn) (2.8.2)\n",
            "Requirement already satisfied: pytz>=2020.1 in c:\\users\\rodri\\appdata\\local\\packages\\pythonsoftwarefoundation.python.3.10_qbz5n2kfra8p0\\localcache\\local-packages\\python310\\site-packages (from pandas>=0.23->seaborn) (2022.1)\n",
            "Requirement already satisfied: six>=1.5 in c:\\users\\rodri\\appdata\\local\\packages\\pythonsoftwarefoundation.python.3.10_qbz5n2kfra8p0\\localcache\\local-packages\\python310\\site-packages (from python-dateutil>=2.7->matplotlib>=2.2->seaborn) (1.16.0)\n"
          ]
        },
        {
          "name": "stderr",
          "output_type": "stream",
          "text": [
            "\n",
            "[notice] A new release of pip is available: 23.1.2 -> 23.2.1\n",
            "[notice] To update, run: C:\\Users\\rodri\\AppData\\Local\\Microsoft\\WindowsApps\\PythonSoftwareFoundation.Python.3.10_qbz5n2kfra8p0\\python.exe -m pip install --upgrade pip\n"
          ]
        }
      ],
      "source": [
        "!pip install seaborn"
      ]
    },
    {
      "cell_type": "markdown",
      "metadata": {
        "colab_type": "text",
        "id": "I7gQIKXts7ac"
      },
      "source": [
        "Otra alternativa es con **apt-get**, por ejemplo, para esta librería que nos ayuda a leer archivos de compresión 7zip"
      ]
    },
    {
      "cell_type": "code",
      "execution_count": 6,
      "metadata": {
        "colab": {},
        "colab_type": "code",
        "id": "jx1uHYyws60d"
      },
      "outputs": [
        {
          "name": "stderr",
          "output_type": "stream",
          "text": [
            "'apt-get' is not recognized as an internal or external command,\n",
            "operable program or batch file.\n"
          ]
        }
      ],
      "source": [
        "# https://pypi.python.org/pypi/libarchive\n",
        "!apt-get -qq install -y libarchive-dev && pip install -U libarchive"
      ]
    },
    {
      "cell_type": "markdown",
      "metadata": {
        "colab_type": "text",
        "id": "IUB_QFchtUG6"
      },
      "source": [
        "También puedo ver la versión de la Librería que tengo usando **pip show**"
      ]
    },
    {
      "cell_type": "code",
      "execution_count": 7,
      "metadata": {
        "colab": {},
        "colab_type": "code",
        "id": "iJpq94LZtSp7"
      },
      "outputs": [
        {
          "name": "stdout",
          "output_type": "stream",
          "text": [
            "Name: tensorflow\n",
            "Version: 2.12.0\n",
            "Summary: TensorFlow is an open source machine learning framework for everyone.\n",
            "Home-page: https://www.tensorflow.org/\n",
            "Author: Google Inc.\n",
            "Author-email: packages@tensorflow.org\n",
            "License: Apache 2.0\n",
            "Location: c:\\users\\rodri\\appdata\\local\\packages\\pythonsoftwarefoundation.python.3.10_qbz5n2kfra8p0\\localcache\\local-packages\\python310\\site-packages\n",
            "Requires: tensorflow-intel\n",
            "Required-by: \n"
          ]
        }
      ],
      "source": [
        "!pip show tensorflow"
      ]
    },
    {
      "cell_type": "markdown",
      "metadata": {
        "colab_type": "text",
        "id": "34XIJdvrtvIZ"
      },
      "source": [
        "También puedo indicarle una versión específica de la librería si lo requiero"
      ]
    },
    {
      "cell_type": "code",
      "execution_count": null,
      "metadata": {
        "colab": {},
        "colab_type": "code",
        "id": "Tj98BGEDtsi-"
      },
      "outputs": [],
      "source": [
        "!pip install tensorflow==1.2"
      ]
    },
    {
      "cell_type": "markdown",
      "metadata": {
        "colab_type": "text",
        "id": "5Gcv4LytpJa6"
      },
      "source": [
        "# Estructuras de control\n",
        "\n",
        "## Comparadores lógicos\n",
        "\n",
        "| Operador | Acción |\n",
        "| -------- | ------ |\n",
        "| ==       | igual  |\n",
        "| > =       | mayor o igual |\n",
        "| >        | mayor estricto |\n",
        "| < =      | menor o igual |\n",
        "| <     | menor estricto |\n",
        "| ! = | desigual|\n",
        "| or | o |\n",
        "| and | y |\n"
      ]
    },
    {
      "cell_type": "code",
      "execution_count": null,
      "metadata": {
        "colab": {},
        "colab_type": "code",
        "id": "vAQhz4JBpJa8",
        "outputId": "2ded7896-a2c2-4291-b9f1-f00b8404005b"
      },
      "outputs": [
        {
          "data": {
            "text/plain": [
              "True"
            ]
          },
          "execution_count": 1,
          "metadata": {
            "tags": []
          },
          "output_type": "execute_result"
        }
      ],
      "source": [
        "1 == 1"
      ]
    },
    {
      "cell_type": "code",
      "execution_count": null,
      "metadata": {
        "colab": {},
        "colab_type": "code",
        "id": "VOliCyFXpJbD",
        "outputId": "4dbbe339-a2c1-4547-948c-4369686a91ad"
      },
      "outputs": [
        {
          "data": {
            "text/plain": [
              "False"
            ]
          },
          "execution_count": 2,
          "metadata": {
            "tags": []
          },
          "output_type": "execute_result"
        }
      ],
      "source": [
        "1 == 2"
      ]
    },
    {
      "cell_type": "code",
      "execution_count": null,
      "metadata": {
        "colab": {},
        "colab_type": "code",
        "id": "Kyntul6YpJbH",
        "outputId": "dba5cc87-99d1-45ae-e4d2-d2b785d74d6f"
      },
      "outputs": [
        {
          "data": {
            "text/plain": [
              "True"
            ]
          },
          "execution_count": 3,
          "metadata": {
            "tags": []
          },
          "output_type": "execute_result"
        }
      ],
      "source": [
        "1 == 1."
      ]
    },
    {
      "cell_type": "code",
      "execution_count": null,
      "metadata": {
        "colab": {},
        "colab_type": "code",
        "id": "qRuWkBNMpJbL",
        "outputId": "7dc12373-a14c-4e18-f0d4-af827c398782"
      },
      "outputs": [
        {
          "data": {
            "text/plain": [
              "True"
            ]
          },
          "execution_count": 4,
          "metadata": {
            "tags": []
          },
          "output_type": "execute_result"
        }
      ],
      "source": [
        "\"hola\" == \"hola\""
      ]
    },
    {
      "cell_type": "code",
      "execution_count": null,
      "metadata": {
        "colab": {},
        "colab_type": "code",
        "id": "gPRDGwcOpJbP",
        "outputId": "f23faaaa-387d-4981-9982-eb0f635e0900"
      },
      "outputs": [
        {
          "data": {
            "text/plain": [
              "False"
            ]
          },
          "execution_count": 5,
          "metadata": {
            "tags": []
          },
          "output_type": "execute_result"
        }
      ],
      "source": [
        "\"hola\" == \"Hola\""
      ]
    },
    {
      "cell_type": "code",
      "execution_count": null,
      "metadata": {
        "colab": {},
        "colab_type": "code",
        "id": "8zsLgypvpJbT",
        "outputId": "a4e7593a-4fe4-4c2b-961d-a7b6c2e5f239"
      },
      "outputs": [
        {
          "data": {
            "text/plain": [
              "True"
            ]
          },
          "execution_count": 6,
          "metadata": {
            "tags": []
          },
          "output_type": "execute_result"
        }
      ],
      "source": [
        "\"hola\" != \"Hola\""
      ]
    },
    {
      "cell_type": "code",
      "execution_count": null,
      "metadata": {
        "colab": {
          "base_uri": "https://localhost:8080/",
          "height": 34
        },
        "colab_type": "code",
        "id": "z78cEc50pJbW",
        "outputId": "6ea49aa4-4621-4872-b0f4-eed4ba321f76"
      },
      "outputs": [
        {
          "data": {
            "text/plain": [
              "True"
            ]
          },
          "execution_count": 1,
          "metadata": {
            "tags": []
          },
          "output_type": "execute_result"
        }
      ],
      "source": [
        "(1 == 1) and (2 == 2)"
      ]
    },
    {
      "cell_type": "code",
      "execution_count": null,
      "metadata": {
        "colab": {
          "base_uri": "https://localhost:8080/",
          "height": 34
        },
        "colab_type": "code",
        "id": "aTCRHJnDpJbd",
        "outputId": "a2b8ffb9-19d3-4e57-831c-e3ac0260b147"
      },
      "outputs": [
        {
          "data": {
            "text/plain": [
              "False"
            ]
          },
          "execution_count": 2,
          "metadata": {
            "tags": []
          },
          "output_type": "execute_result"
        }
      ],
      "source": [
        "(1 == 1) and (2 != 2)"
      ]
    },
    {
      "cell_type": "code",
      "execution_count": null,
      "metadata": {
        "colab": {
          "base_uri": "https://localhost:8080/",
          "height": 34
        },
        "colab_type": "code",
        "id": "HTZEJDB9pJbh",
        "outputId": "aa76121f-c5f2-4acf-84a5-3db42afddb3c"
      },
      "outputs": [
        {
          "data": {
            "text/plain": [
              "True"
            ]
          },
          "execution_count": 3,
          "metadata": {
            "tags": []
          },
          "output_type": "execute_result"
        }
      ],
      "source": [
        "(1 == 1) or (2 != 2)"
      ]
    },
    {
      "cell_type": "code",
      "execution_count": null,
      "metadata": {
        "colab": {
          "base_uri": "https://localhost:8080/",
          "height": 34
        },
        "colab_type": "code",
        "id": "eKQySLbMpJbn",
        "outputId": "4c509e08-0354-47d9-cf11-7d78202e4fad"
      },
      "outputs": [
        {
          "data": {
            "text/plain": [
              "False"
            ]
          },
          "execution_count": 7,
          "metadata": {
            "tags": []
          },
          "output_type": "execute_result"
        }
      ],
      "source": [
        "not ((1 == 1) or (2 != 2))"
      ]
    },
    {
      "cell_type": "code",
      "execution_count": null,
      "metadata": {
        "colab": {
          "base_uri": "https://localhost:8080/",
          "height": 34
        },
        "colab_type": "code",
        "id": "rzUaqIqFpJbr",
        "outputId": "41a9fe2b-12f0-45ba-c8f1-322d52af9415"
      },
      "outputs": [
        {
          "data": {
            "text/plain": [
              "True"
            ]
          },
          "execution_count": 10,
          "metadata": {
            "tags": []
          },
          "output_type": "execute_result"
        }
      ],
      "source": [
        "not (1 == 1) or (2 == 2)"
      ]
    },
    {
      "cell_type": "markdown",
      "metadata": {
        "colab_type": "text",
        "id": "TNPw6SwzkQjw"
      },
      "source": [
        "### El operador \"not in\""
      ]
    },
    {
      "cell_type": "code",
      "execution_count": 7,
      "metadata": {
        "colab": {
          "base_uri": "https://localhost:8080/",
          "height": 34
        },
        "colab_type": "code",
        "id": "bPvwLj0gkY1M",
        "outputId": "e90347c9-caf6-441f-af0d-56c95cca5ed8"
      },
      "outputs": [
        {
          "data": {
            "text/plain": [
              "True"
            ]
          },
          "execution_count": 7,
          "metadata": {
            "tags": []
          },
          "output_type": "execute_result"
        }
      ],
      "source": [
        "'Juan' in ['Pedro', 'Lucia', 'Juan', 'Maria']"
      ]
    },
    {
      "cell_type": "code",
      "execution_count": 8,
      "metadata": {
        "colab": {
          "base_uri": "https://localhost:8080/",
          "height": 34
        },
        "colab_type": "code",
        "id": "W5Z6UR6ekew2",
        "outputId": "2b28549a-f15c-4e2e-a558-b720f6436868"
      },
      "outputs": [
        {
          "data": {
            "text/plain": [
              "False"
            ]
          },
          "execution_count": 8,
          "metadata": {
            "tags": []
          },
          "output_type": "execute_result"
        }
      ],
      "source": [
        "'Juan' not in ['Pedro', 'Lucia', 'Juan', 'Maria']"
      ]
    },
    {
      "cell_type": "code",
      "execution_count": 9,
      "metadata": {
        "colab": {
          "base_uri": "https://localhost:8080/",
          "height": 34
        },
        "colab_type": "code",
        "id": "Qtojp_Inkgwp",
        "outputId": "c4a744f8-d761-4e87-deb2-0233b18ee5c2"
      },
      "outputs": [
        {
          "data": {
            "text/plain": [
              "True"
            ]
          },
          "execution_count": 9,
          "metadata": {
            "tags": []
          },
          "output_type": "execute_result"
        }
      ],
      "source": [
        "'Julieta' not in ['Pedro', 'Lucia', 'Juan', 'Maria']"
      ]
    },
    {
      "cell_type": "markdown",
      "metadata": {
        "colab_type": "text",
        "id": "cL1D1T45kyib"
      },
      "source": [
        "### Asignación con operador aritmético\n",
        "\n",
        "| Operador | Equivalente |\n",
        "| -------- | ----------- |\n",
        "| `a += 1` | `a = a + 1` |\n",
        "| `a -= 1` | `a = a - 1` |\n",
        "| `a *= 1` | `a = a * 1` |\n",
        "| `a /= 1` | `a = a / 1` |\n",
        "| `a %= 1` | `a = a % 1` |"
      ]
    },
    {
      "cell_type": "code",
      "execution_count": 10,
      "metadata": {
        "colab": {
          "base_uri": "https://localhost:8080/",
          "height": 35
        },
        "colab_type": "code",
        "id": "VuMrXVdLks4n",
        "outputId": "e6badfa5-7480-45d0-d983-d499927de38d"
      },
      "outputs": [
        {
          "data": {
            "application/vnd.google.colaboratory.intrinsic+json": {
              "type": "string"
            },
            "text/plain": [
              "'Hello world!'"
            ]
          },
          "execution_count": 10,
          "metadata": {
            "tags": []
          },
          "output_type": "execute_result"
        }
      ],
      "source": [
        "a = 'Hello'\n",
        "a += ' world!'\n",
        "a"
      ]
    },
    {
      "cell_type": "code",
      "execution_count": 15,
      "metadata": {
        "colab": {
          "base_uri": "https://localhost:8080/",
          "height": 67
        },
        "colab_type": "code",
        "id": "6gsCqDEtmiSS",
        "outputId": "1f674729-f707-441d-9c61-95d2874f608f"
      },
      "outputs": [
        {
          "name": "stdout",
          "output_type": "stream",
          "text": [
            "2\n",
            "4\n",
            "8\n"
          ]
        }
      ],
      "source": [
        "a = 2\n",
        "print(a)\n",
        "\n",
        "a *= 2\n",
        "print(a)\n",
        "\n",
        "a *= 2\n",
        "print(a)"
      ]
    },
    {
      "cell_type": "markdown",
      "metadata": {
        "colab_type": "text",
        "id": "82xO1hGUpJbu"
      },
      "source": [
        "## Condicionales"
      ]
    },
    {
      "cell_type": "code",
      "execution_count": null,
      "metadata": {
        "colab": {},
        "colab_type": "code",
        "id": "6NKcH11tpJbv",
        "outputId": "ebe48f58-96a2-44c3-c779-31a5c8a0a37f",
        "tags": []
      },
      "outputs": [
        {
          "name": "stdout",
          "output_type": "stream",
          "text": [
            "econtrado\n"
          ]
        }
      ],
      "source": [
        "persona = \"Juan\"\n",
        "if (persona == \"Juan\"):\n",
        "    print(\"econtrado\")"
      ]
    },
    {
      "cell_type": "code",
      "execution_count": null,
      "metadata": {
        "colab": {},
        "colab_type": "code",
        "id": "axy543RwpJby",
        "outputId": "12fba4a3-6ce2-4f57-b578-d078d4b0190c",
        "tags": []
      },
      "outputs": [
        {
          "name": "stdout",
          "output_type": "stream",
          "text": [
            "no encontrado\n"
          ]
        }
      ],
      "source": [
        "if (persona == \"Pedro\"):\n",
        "    print(\"econtrado\")\n",
        "else:\n",
        "    print(\"no encontrado\")"
      ]
    },
    {
      "cell_type": "code",
      "execution_count": null,
      "metadata": {
        "colab": {},
        "colab_type": "code",
        "id": "yzU1Iu5ipJb1",
        "outputId": "9abe805f-7f2b-43ce-e01b-456134fe73e6",
        "tags": []
      },
      "outputs": [
        {
          "name": "stdout",
          "output_type": "stream",
          "text": [
            "econtrado Juan\n"
          ]
        }
      ],
      "source": [
        "if (persona == \"Pedro\"):\n",
        "    print(\"econtrado Pedro\")\n",
        "elif (persona == \"Juan\"): \n",
        "    print(\"econtrado Juan\")\n",
        "else:\n",
        "    print(\"no encontrado\")"
      ]
    },
    {
      "cell_type": "markdown",
      "metadata": {
        "colab_type": "text",
        "id": "DbCgt-XKpJb4"
      },
      "source": [
        "## Loops"
      ]
    },
    {
      "cell_type": "markdown",
      "metadata": {
        "colab_type": "text",
        "id": "2xD8Q7YOQFZi"
      },
      "source": [
        "### Loops usando For"
      ]
    },
    {
      "cell_type": "code",
      "execution_count": null,
      "metadata": {
        "colab": {},
        "colab_type": "code",
        "id": "BSXUM02KpJb5",
        "outputId": "6c7f60cf-05d9-48c9-e410-e61050f85d70",
        "tags": []
      },
      "outputs": [
        {
          "name": "stdout",
          "output_type": "stream",
          "text": [
            "1\n",
            "2\n",
            "3\n"
          ]
        }
      ],
      "source": [
        "for a in [1, 2, 3]:\n",
        "    print(a)"
      ]
    },
    {
      "cell_type": "code",
      "execution_count": null,
      "metadata": {
        "colab": {},
        "colab_type": "code",
        "id": "LKZGumv6pJb-",
        "outputId": "05282f09-ba46-4f0e-fe85-18e6bfc91590",
        "tags": []
      },
      "outputs": [
        {
          "name": "stdout",
          "output_type": "stream",
          "text": [
            "1\n",
            "2\n",
            "3\n"
          ]
        }
      ],
      "source": [
        "lista = [1, 2, 3]\n",
        "for a in lista:\n",
        "    print(a)"
      ]
    },
    {
      "cell_type": "code",
      "execution_count": null,
      "metadata": {
        "colab": {},
        "colab_type": "code",
        "id": "mODIDXvlpJcB",
        "outputId": "252b521d-2b86-4582-af8b-f58d49c54719",
        "tags": []
      },
      "outputs": [
        {
          "name": "stdout",
          "output_type": "stream",
          "text": [
            "v1\n",
            "v2\n",
            "v3\n"
          ]
        }
      ],
      "source": [
        "diccionario = {\"v1\": 1, \"v2\": 2, \"v3\": 3}\n",
        "for a in diccionario:\n",
        "    print(a)"
      ]
    },
    {
      "cell_type": "code",
      "execution_count": null,
      "metadata": {
        "colab": {
          "base_uri": "https://localhost:8080/",
          "height": 67
        },
        "colab_type": "code",
        "id": "1VUE26c1pJcE",
        "outputId": "bc2e6306-3a42-4bc8-e480-d0f7afd88b7e",
        "tags": []
      },
      "outputs": [
        {
          "name": "stdout",
          "output_type": "stream",
          "text": [
            "v1 1\n",
            "v2 2\n",
            "v3 3\n"
          ]
        }
      ],
      "source": [
        "diccionario = {\"v1\": 1, \"v2\": 2, \"v3\": 3}\n",
        "for a in diccionario.keys():\n",
        "    print(a, diccionario[a])"
      ]
    },
    {
      "cell_type": "code",
      "execution_count": null,
      "metadata": {
        "colab": {
          "base_uri": "https://localhost:8080/",
          "height": 34
        },
        "colab_type": "code",
        "id": "EK0A_9jzpJcL",
        "outputId": "7666b1af-5cf1-4749-bbfc-83067d620910"
      },
      "outputs": [
        {
          "data": {
            "text/plain": [
              "dict_items([('v1', 1), ('v2', 2), ('v3', 3)])"
            ]
          },
          "execution_count": 36,
          "metadata": {
            "tags": []
          },
          "output_type": "execute_result"
        }
      ],
      "source": [
        "diccionario.items()"
      ]
    },
    {
      "cell_type": "code",
      "execution_count": null,
      "metadata": {
        "colab": {},
        "colab_type": "code",
        "id": "L7Jmh98OpJcH",
        "outputId": "4bb0dc1a-4894-486d-d49a-71936064f968",
        "tags": []
      },
      "outputs": [
        {
          "name": "stdout",
          "output_type": "stream",
          "text": [
            "llave: v1, valor: 1\n",
            "llave: v2, valor: 2\n",
            "llave: v3, valor: 3\n"
          ]
        }
      ],
      "source": [
        "diccionario = {\"v1\": 1, \"v2\": 2, \"v3\": 3}\n",
        "for k, v in diccionario.items():\n",
        "    print(f\"llave: {k}, valor: {v}\")"
      ]
    },
    {
      "cell_type": "code",
      "execution_count": null,
      "metadata": {
        "colab": {
          "base_uri": "https://localhost:8080/",
          "height": 50
        },
        "colab_type": "code",
        "id": "sFPIuNBjpJcO",
        "outputId": "2ef3b018-642f-47dd-abde-c54678652058"
      },
      "outputs": [
        {
          "name": "stdout",
          "output_type": "stream",
          "text": [
            "1\n",
            "2\n"
          ]
        }
      ],
      "source": [
        "v1, v2 = 1, 2\n",
        "print(v1)\n",
        "print(v2)"
      ]
    },
    {
      "cell_type": "code",
      "execution_count": null,
      "metadata": {
        "colab": {
          "base_uri": "https://localhost:8080/",
          "height": 67
        },
        "colab_type": "code",
        "id": "LK6yuZkSpJcS",
        "outputId": "120792ac-3f48-4efc-ed5b-a38c1d8ac815",
        "tags": []
      },
      "outputs": [
        {
          "name": "stdout",
          "output_type": "stream",
          "text": [
            "el indice 0 tienen un valor a\n",
            "el indice 1 tienen un valor b\n",
            "el indice 2 tienen un valor c\n"
          ]
        }
      ],
      "source": [
        "lista = [\"a\", \"b\", \"c\"]\n",
        "for indice in range(len(lista)):\n",
        "    print(f\"el indice {indice} tienen un valor {lista[indice]}\")"
      ]
    },
    {
      "cell_type": "code",
      "execution_count": null,
      "metadata": {
        "colab": {
          "base_uri": "https://localhost:8080/",
          "height": 34
        },
        "colab_type": "code",
        "id": "kw2C5fW9qzLs",
        "outputId": "d838341a-2c4e-48c8-f003-ffad4cb8f200"
      },
      "outputs": [
        {
          "data": {
            "text/plain": [
              "range(0, 3)"
            ]
          },
          "execution_count": 14,
          "metadata": {
            "tags": []
          },
          "output_type": "execute_result"
        }
      ],
      "source": [
        "range(len(lista))"
      ]
    },
    {
      "cell_type": "code",
      "execution_count": null,
      "metadata": {
        "colab": {
          "base_uri": "https://localhost:8080/",
          "height": 67
        },
        "colab_type": "code",
        "id": "ay_M9kW5pJcV",
        "outputId": "fd4f4157-4ed7-4e9d-8372-d07e0c049b1d",
        "tags": []
      },
      "outputs": [
        {
          "name": "stdout",
          "output_type": "stream",
          "text": [
            "el indice 0 tienen un valor a\n",
            "el indice 1 tienen un valor b\n",
            "el indice 2 tienen un valor c\n"
          ]
        }
      ],
      "source": [
        "for indice, elemento in enumerate(lista):\n",
        "    print(f\"el indice {indice} tienen un valor {elemento}\")"
      ]
    },
    {
      "cell_type": "markdown",
      "metadata": {
        "colab_type": "text",
        "id": "5VQeBfG8t-Mc"
      },
      "source": [
        "### Loops usando While "
      ]
    },
    {
      "cell_type": "code",
      "execution_count": null,
      "metadata": {
        "colab": {},
        "colab_type": "code",
        "id": "EC9ZihppQloi"
      },
      "outputs": [],
      "source": [
        "from random import random"
      ]
    },
    {
      "cell_type": "code",
      "execution_count": null,
      "metadata": {
        "colab": {
          "base_uri": "https://localhost:8080/",
          "height": 202
        },
        "colab_type": "code",
        "id": "eu8BPp7qpJcY",
        "outputId": "fbd1dda9-f9f3-4063-bf46-9454cf777a64",
        "tags": []
      },
      "outputs": [
        {
          "name": "stdout",
          "output_type": "stream",
          "text": [
            "0\n",
            "nuevo cent: 0.45213893899776947\n",
            "nuevo cent: 0.41145580009217186\n",
            "nuevo cent: 0.6847429458295473\n",
            "nuevo cent: 0.6167300719624855\n",
            "nuevo cent: 0.22184164761367897\n",
            "nuevo cent: 0.08837425503441121\n",
            "nuevo cent: 0.03806110307242461\n",
            "nuevo cent: 0.6775709136362923\n",
            "nuevo cent: 0.017772150559181576\n",
            "nuevo cent: 0.8682520610830691\n"
          ]
        }
      ],
      "source": [
        "cent = 0\n",
        "print(cent)\n",
        "while cent < 0.7:\n",
        "    cent = random()\n",
        "    print(\"nuevo cent:\", cent)"
      ]
    },
    {
      "cell_type": "markdown",
      "metadata": {
        "colab_type": "text",
        "id": "Uvgbm2L8jfH6"
      },
      "source": [
        "### Loop de múltiples Listas usando zip()\n"
      ]
    },
    {
      "cell_type": "code",
      "execution_count": 6,
      "metadata": {
        "colab": {
          "base_uri": "https://localhost:8080/",
          "height": 84
        },
        "colab_type": "code",
        "id": "oWZnX8DsjoOn",
        "outputId": "22b85fbc-2a19-4be9-9974-1f39f04e1312"
      },
      "outputs": [
        {
          "name": "stdout",
          "output_type": "stream",
          "text": [
            "La calificación de Pedro fue 8 sobre 10\n",
            "La calificación de Lucia fue 9 sobre 10\n",
            "La calificación de Juan fue 3 sobre 10\n",
            "La calificación de Maria fue 5 sobre 10\n"
          ]
        }
      ],
      "source": [
        "name = ['Pedro', 'Lucia', 'Juan', 'Maria']\n",
        "age = [8, 9, 3, 5]\n",
        "for n, a in zip(name, age):\n",
        "  print('La calificación de {} fue {} sobre 10'.format(n, a))"
      ]
    },
    {
      "cell_type": "markdown",
      "metadata": {
        "colab_type": "text",
        "id": "qMjTuQxspJcd"
      },
      "source": [
        "### List Comprehension vs. For Loops"
      ]
    },
    {
      "cell_type": "code",
      "execution_count": null,
      "metadata": {
        "colab": {
          "base_uri": "https://localhost:8080/",
          "height": 34
        },
        "colab_type": "code",
        "id": "06gFgkR6pJcd",
        "outputId": "351c2f75-f425-4578-ffe7-a5341f75eb42",
        "tags": []
      },
      "outputs": [
        {
          "name": "stdout",
          "output_type": "stream",
          "text": [
            "1000 loops, best of 3: 1.22 ms per loop\n"
          ]
        }
      ],
      "source": [
        "%%timeit\n",
        "lista1 = []\n",
        "for a in range(10000):\n",
        "    b = a / 2 + 10\n",
        "    lista1.append(b)"
      ]
    },
    {
      "cell_type": "code",
      "execution_count": null,
      "metadata": {
        "colab": {
          "base_uri": "https://localhost:8080/",
          "height": 34
        },
        "colab_type": "code",
        "id": "4n0Nls8GpJcg",
        "outputId": "8dae6d1b-8bfd-45d6-f57a-9429e65d640d",
        "tags": []
      },
      "outputs": [
        {
          "name": "stdout",
          "output_type": "stream",
          "text": [
            "1000 loops, best of 3: 851 µs per loop\n"
          ]
        }
      ],
      "source": [
        "%%timeit\n",
        "lista2 = [a / 2 + 10 for a in range(10000)]"
      ]
    },
    {
      "cell_type": "markdown",
      "metadata": {
        "colab_type": "text",
        "id": "PJChvhCrR4rX"
      },
      "source": [
        "## Referencia y Copia de Objetos"
      ]
    },
    {
      "cell_type": "code",
      "execution_count": null,
      "metadata": {
        "colab": {},
        "colab_type": "code",
        "id": "rhY65hfcpJcj"
      },
      "outputs": [],
      "source": [
        "lista1 = []\n",
        "for a in range(10):\n",
        "    b = a / 2 + 10\n",
        "    lista1.append(b)"
      ]
    },
    {
      "cell_type": "code",
      "execution_count": null,
      "metadata": {
        "colab": {},
        "colab_type": "code",
        "id": "q_MUUmYNReHE"
      },
      "outputs": [],
      "source": [
        "lista2 = [a / 2 + 10 for a in range(10)]"
      ]
    },
    {
      "cell_type": "code",
      "execution_count": null,
      "metadata": {
        "colab": {
          "base_uri": "https://localhost:8080/",
          "height": 50
        },
        "colab_type": "code",
        "id": "xUoa1Zw1Rj90",
        "outputId": "70a08bde-5c69-4d5e-cc0c-832f04592668"
      },
      "outputs": [
        {
          "name": "stdout",
          "output_type": "stream",
          "text": [
            "[10.0, 10.5, 11.0, 11.5, 12.0, 12.5, 13.0, 13.5, 14.0, 14.5]\n",
            "[10.0, 10.5, 11.0, 11.5, 12.0, 12.5, 13.0, 13.5, 14.0, 14.5]\n"
          ]
        }
      ],
      "source": [
        "print(lista1)\n",
        "print(lista2)"
      ]
    },
    {
      "cell_type": "code",
      "execution_count": null,
      "metadata": {
        "colab": {
          "base_uri": "https://localhost:8080/",
          "height": 50
        },
        "colab_type": "code",
        "id": "H4RwHTuapJcm",
        "outputId": "71e31864-fd6e-45e7-e87f-974bd21b2010",
        "tags": []
      },
      "outputs": [
        {
          "name": "stdout",
          "output_type": "stream",
          "text": [
            "False\n",
            "True\n"
          ]
        }
      ],
      "source": [
        "print(lista1 is lista2)\n",
        "print(lista1 == lista2)"
      ]
    },
    {
      "cell_type": "code",
      "execution_count": null,
      "metadata": {
        "colab": {
          "base_uri": "https://localhost:8080/",
          "height": 34
        },
        "colab_type": "code",
        "id": "kgZsiqpipJco",
        "outputId": "3065824b-a507-467b-ddfb-587f7a858d38"
      },
      "outputs": [
        {
          "data": {
            "text/plain": [
              "True"
            ]
          },
          "execution_count": 51,
          "metadata": {
            "tags": []
          },
          "output_type": "execute_result"
        }
      ],
      "source": [
        "lista3 = lista2\n",
        "lista3 is lista2"
      ]
    },
    {
      "cell_type": "markdown",
      "metadata": {
        "colab_type": "text",
        "id": "3hpIu8EuSBnT"
      },
      "source": [
        "Que sucede si modifico un elemento de la lista2 y veo la lista3"
      ]
    },
    {
      "cell_type": "code",
      "execution_count": null,
      "metadata": {
        "colab": {
          "base_uri": "https://localhost:8080/",
          "height": 34
        },
        "colab_type": "code",
        "id": "Cve_LeoIpJcr",
        "outputId": "a5eabd5b-c84e-42f1-972a-dfb73440ddb5"
      },
      "outputs": [
        {
          "data": {
            "text/plain": [
              "['nuevo_elemento', 10.5, 11.0, 11.5, 12.0, 12.5, 13.0, 13.5, 14.0, 14.5]"
            ]
          },
          "execution_count": 52,
          "metadata": {
            "tags": []
          },
          "output_type": "execute_result"
        }
      ],
      "source": [
        "lista2[0] = \"nuevo_elemento\"\n",
        "\n",
        "lista3"
      ]
    },
    {
      "cell_type": "code",
      "execution_count": null,
      "metadata": {
        "colab": {
          "base_uri": "https://localhost:8080/",
          "height": 34
        },
        "colab_type": "code",
        "id": "aEfhhOLspJcx",
        "outputId": "41a3301b-9b1c-4b1c-d1dd-e170f42e8b8c"
      },
      "outputs": [
        {
          "data": {
            "text/plain": [
              "[10.0, 10.5, 11.0, 11.5, 12.0, 12.5, 13.0, 13.5, 14.0, 14.5]"
            ]
          },
          "execution_count": 53,
          "metadata": {
            "tags": []
          },
          "output_type": "execute_result"
        }
      ],
      "source": [
        "lista4 = lista1.copy()\n",
        "lista1[0] = \"nuevo2\"\n",
        "lista4"
      ]
    },
    {
      "cell_type": "markdown",
      "metadata": {
        "colab_type": "text",
        "id": "G3S9WwhApJcz"
      },
      "source": [
        "## Dictionary Comprehension"
      ]
    },
    {
      "cell_type": "markdown",
      "metadata": {
        "colab_type": "text",
        "id": "T4HpK4QASn3B"
      },
      "source": [
        "Puedo crear diccionarios usando Dictionary Comprehension de la sigiente forma:\n",
        "\n",
        "`dictionary = {key: value for vars in iterable}`"
      ]
    },
    {
      "cell_type": "code",
      "execution_count": null,
      "metadata": {
        "colab": {},
        "colab_type": "code",
        "id": "tuhs3FJZpJc0",
        "outputId": "46969970-2c2f-4902-bf6f-eaa5bf299d32"
      },
      "outputs": [
        {
          "data": {
            "text/plain": [
              "{'v1': 1, 'v2': 2, 'v3': 3}"
            ]
          },
          "execution_count": 49,
          "metadata": {
            "tags": []
          },
          "output_type": "execute_result"
        }
      ],
      "source": [
        "dic_comp ={k: v for k, v in [(\"v1\", 1), (\"v2\", 2), (\"v3\", 3)]}\n",
        "dic_comp"
      ]
    },
    {
      "cell_type": "markdown",
      "metadata": {
        "colab_type": "text",
        "id": "TZHb1kYVSxlz"
      },
      "source": [
        "Con un for loop:"
      ]
    },
    {
      "cell_type": "code",
      "execution_count": null,
      "metadata": {
        "colab": {
          "base_uri": "https://localhost:8080/",
          "height": 34
        },
        "colab_type": "code",
        "id": "n6yJ4X3zSmzX",
        "outputId": "05dedbce-be78-47c8-98c2-61eb4389de48"
      },
      "outputs": [
        {
          "name": "stdout",
          "output_type": "stream",
          "text": [
            "{1: 1, 2: 4, 3: 9, 4: 16, 5: 25, 6: 36, 7: 49, 8: 64, 9: 81, 10: 100}\n"
          ]
        }
      ],
      "source": [
        "cuadrado = dict()\n",
        "for num in range(1, 11):\n",
        "    cuadrado[num] = num*num\n",
        "print(cuadrado)"
      ]
    },
    {
      "cell_type": "markdown",
      "metadata": {
        "colab_type": "text",
        "id": "BV4hb4pxS53R"
      },
      "source": [
        "Usando Dictionary Comprehension"
      ]
    },
    {
      "cell_type": "code",
      "execution_count": null,
      "metadata": {
        "colab": {
          "base_uri": "https://localhost:8080/",
          "height": 34
        },
        "colab_type": "code",
        "id": "s-yJOur-S3aT",
        "outputId": "d2294a0e-0701-4fc2-e0d8-8e7d67479acb"
      },
      "outputs": [
        {
          "name": "stdout",
          "output_type": "stream",
          "text": [
            "{1: 1, 2: 4, 3: 9, 4: 16, 5: 25, 6: 36, 7: 49, 8: 64, 9: 81, 10: 100}\n"
          ]
        }
      ],
      "source": [
        "cuadrado = {num: num*num for num in range(1, 11)}\n",
        "print(cuadrado)"
      ]
    },
    {
      "cell_type": "markdown",
      "metadata": {
        "colab_type": "text",
        "id": "_79LRuBbpJc2"
      },
      "source": [
        "## Ejercicios \n",
        "\n",
        "1. Crear una lista con valores del 100 al 500 a intervaloes de 50\n"
      ]
    },
    {
      "cell_type": "markdown",
      "metadata": {
        "colab_type": "text",
        "id": "9XxijtrpTej6"
      },
      "source": [
        "\n",
        "2. Convertir esa lista en un diccionario donde los valores sean los elementos de la lista y las llaves el texto 'pago_{i}' donde i es el indice del pago, ej. pago_1 = 100"
      ]
    },
    {
      "cell_type": "markdown",
      "metadata": {
        "colab_type": "text",
        "id": "F28rZweXTrSw"
      },
      "source": [
        "3. Sacar el valor actual de la lista considerandola una lista de pagos a intervalos regulares con una tasa de interes del 100%. El valor actual es la suma de los valores individuales descontados por el interes, cada pago se descuenta dividiendolo por (1 + tasa)^indice, por ej. 150 / ((1 + 1) ** 2). Recordar que los indices empiezan en 0"
      ]
    },
    {
      "cell_type": "code",
      "execution_count": null,
      "metadata": {
        "colab": {},
        "colab_type": "code",
        "id": "uuyGLvvNjTE4"
      },
      "outputs": [],
      "source": []
    }
  ],
  "metadata": {
    "colab": {
      "include_colab_link": true,
      "name": "02_intro_python2.ipynb",
      "provenance": []
    },
    "kernelspec": {
      "display_name": "Python 3",
      "language": "python",
      "name": "python3"
    },
    "language_info": {
      "codemirror_mode": {
        "name": "ipython",
        "version": 3
      },
      "file_extension": ".py",
      "mimetype": "text/x-python",
      "name": "python",
      "nbconvert_exporter": "python",
      "pygments_lexer": "ipython3",
      "version": "3.10.11"
    }
  },
  "nbformat": 4,
  "nbformat_minor": 0
}
