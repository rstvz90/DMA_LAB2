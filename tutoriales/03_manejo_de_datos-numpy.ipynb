{
  "cells": [
    {
      "cell_type": "markdown",
      "metadata": {
        "colab_type": "text",
        "id": "view-in-github"
      },
      "source": [
        "<a href=\"https://colab.research.google.com/github/Argentan/DMA_LAB2/blob/master/tutoriales/03_manejo_de_datos-numpy.ipynb\" target=\"_parent\"><img src=\"https://colab.research.google.com/assets/colab-badge.svg\" alt=\"Open In Colab\"/></a>"
      ]
    },
    {
      "cell_type": "markdown",
      "metadata": {
        "colab_type": "text",
        "id": "XqMGDUP6xLQ-"
      },
      "source": [
        "<a href=\"https://colab.research.google.com/github/Argentan/DMA_LAB2/blob/master/tutoriales/03_manejo_de_datos-numpy.ipynb\" target=\"_parent\"><img src=\"https://colab.research.google.com/assets/colab-badge.svg\" alt=\"Open In Colab\"/></a>"
      ]
    },
    {
      "cell_type": "markdown",
      "metadata": {
        "colab_type": "text",
        "id": "OsgacXmFyHre"
      },
      "source": [
        "# Repaso de Listas"
      ]
    },
    {
      "cell_type": "code",
      "execution_count": null,
      "metadata": {
        "colab": {},
        "colab_type": "code",
        "id": "0JwB1omFyKc4"
      },
      "outputs": [],
      "source": [
        "b = [1,2,3]"
      ]
    },
    {
      "cell_type": "markdown",
      "metadata": {
        "colab_type": "text",
        "id": "Lugr9KHwyUGZ"
      },
      "source": [
        "Aplicando Operadores Matemáticos a Listas"
      ]
    },
    {
      "cell_type": "code",
      "execution_count": null,
      "metadata": {
        "colab": {},
        "colab_type": "code",
        "id": "2pzuaAdMyMVz"
      },
      "outputs": [],
      "source": [
        "b + b"
      ]
    },
    {
      "cell_type": "code",
      "execution_count": null,
      "metadata": {
        "colab": {},
        "colab_type": "code",
        "id": "wJfuwm32yP3K"
      },
      "outputs": [],
      "source": [
        "b * 4"
      ]
    },
    {
      "cell_type": "markdown",
      "metadata": {
        "colab_type": "text",
        "id": "BuLegKfqyXti"
      },
      "source": [
        "Solución? For Loops?"
      ]
    },
    {
      "cell_type": "code",
      "execution_count": null,
      "metadata": {
        "colab": {},
        "colab_type": "code",
        "id": "HzUrLTNkyaEI"
      },
      "outputs": [],
      "source": [
        "for elemento in b:\n",
        "    print(elemento)"
      ]
    },
    {
      "cell_type": "code",
      "execution_count": null,
      "metadata": {
        "colab": {},
        "colab_type": "code",
        "id": "6I8HjEjKyea7"
      },
      "outputs": [],
      "source": [
        "for elemento in b:\n",
        "    print(elemento + elemento)"
      ]
    },
    {
      "cell_type": "markdown",
      "metadata": {
        "colab_type": "text",
        "id": "0JPqEG49yifH"
      },
      "source": [
        "Y si lo quiero guardar en otra variable (por ejemplo 'c = b+b')?\n",
        "\n",
        "Una forma es:\n",
        "* Definir un array vacio\n",
        "* recorrer todos los elementos en b\n",
        "* sumarlos entre si y meterlos dentro de una lista ([elemento + elemento])\n",
        "* sumar esta lista a 'c' (**c \\+= algo** es lo mismo que **c = c + algo**)"
      ]
    },
    {
      "cell_type": "code",
      "execution_count": null,
      "metadata": {
        "colab": {},
        "colab_type": "code",
        "id": "XT--J06nyj0u"
      },
      "outputs": [],
      "source": [
        "c = []\n",
        "for elemento in b:\n",
        "    c += [elemento + elemento]\n",
        "c"
      ]
    },
    {
      "cell_type": "code",
      "execution_count": null,
      "metadata": {
        "colab": {},
        "colab_type": "code",
        "id": "IAqPnmQUyoW0"
      },
      "outputs": [],
      "source": [
        "c = []\n",
        "for elemento in b:\n",
        "    c += [elemento * 4]\n",
        "c"
      ]
    },
    {
      "cell_type": "markdown",
      "metadata": {
        "colab_type": "text",
        "id": "_3gakFJLy645"
      },
      "source": [
        "Alternativa??"
      ]
    },
    {
      "cell_type": "markdown",
      "metadata": {
        "colab_type": "text",
        "id": "OBpD3Ve7xLRE"
      },
      "source": [
        "# Librería Numpy\n",
        "\n",
        "Es el paquete de arrays mas comunmente usado en Python. La diferencia entre un array y una lista nativa es que el array es continuo en memoria mientras que la lista esta encadenada, haciendo que el array sea mucho mas rapido de leer y, por tanto, la estructura de datos natural para el procesamiento de grandes cantidades de datos"
      ]
    },
    {
      "cell_type": "code",
      "execution_count": 1,
      "metadata": {
        "colab": {},
        "colab_type": "code",
        "id": "D99BOYgHxLRH"
      },
      "outputs": [],
      "source": [
        "import numpy as np"
      ]
    },
    {
      "cell_type": "code",
      "execution_count": null,
      "metadata": {
        "colab": {},
        "colab_type": "code",
        "id": "E7u8knbdxLRP"
      },
      "outputs": [],
      "source": [
        "arr1 = np.array([1,2,3,4])\n",
        "arr1"
      ]
    },
    {
      "cell_type": "code",
      "execution_count": null,
      "metadata": {
        "colab": {},
        "colab_type": "code",
        "id": "PoOFReZaxLRW"
      },
      "outputs": [],
      "source": [
        "type(arr1)"
      ]
    },
    {
      "cell_type": "code",
      "execution_count": null,
      "metadata": {
        "colab": {},
        "colab_type": "code",
        "id": "-0haq5JBxLRa"
      },
      "outputs": [],
      "source": [
        "arr1 + arr1"
      ]
    },
    {
      "cell_type": "code",
      "execution_count": null,
      "metadata": {
        "colab": {},
        "colab_type": "code",
        "id": "XJMIrfXuxLRi"
      },
      "outputs": [],
      "source": [
        "arr1 / arr1"
      ]
    },
    {
      "cell_type": "code",
      "execution_count": null,
      "metadata": {
        "colab": {},
        "colab_type": "code",
        "id": "RnchQO25xLRr"
      },
      "outputs": [],
      "source": [
        "arr1 + 100"
      ]
    },
    {
      "cell_type": "markdown",
      "metadata": {
        "colab_type": "text",
        "id": "An3VYAhU_PAR"
      },
      "source": [
        "## Dimensiones\n",
        "\n",
        "Los arrays de numpy pueden ser unidimensionales (1D), bidimensionales (2D) o cuantas dimensiones quieran.\n"
      ]
    },
    {
      "cell_type": "code",
      "execution_count": null,
      "metadata": {
        "colab": {},
        "colab_type": "code",
        "id": "GLIB9jK4_PAR"
      },
      "outputs": [],
      "source": [
        "data = np.round( np.random.rand(3,5) * 100 )"
      ]
    },
    {
      "cell_type": "code",
      "execution_count": null,
      "metadata": {
        "colab": {},
        "colab_type": "code",
        "id": "zxbAMqfH_PAU"
      },
      "outputs": [],
      "source": [
        "data"
      ]
    },
    {
      "cell_type": "code",
      "execution_count": null,
      "metadata": {
        "colab": {},
        "colab_type": "code",
        "id": "FmWupwhp_PAX"
      },
      "outputs": [],
      "source": [
        "data * 2"
      ]
    },
    {
      "cell_type": "markdown",
      "metadata": {
        "colab_type": "text",
        "id": "gM_zQL58_PAc"
      },
      "source": [
        "Tamaño de 'data'"
      ]
    },
    {
      "cell_type": "code",
      "execution_count": null,
      "metadata": {
        "colab": {},
        "colab_type": "code",
        "id": "YMs7J2pM_PAc"
      },
      "outputs": [],
      "source": [
        "data.shape"
      ]
    },
    {
      "cell_type": "markdown",
      "metadata": {
        "colab_type": "text",
        "id": "FPOowyKpxLR0"
      },
      "source": [
        "## Indexado\n",
        "\n",
        "El indexado en los ndarray funciona igual que el indexado de listas\n",
        "\n",
        "Los elementos de una ndarray se pueden acceder mediante su indice\n",
        "\n",
        "* Todos los indices empiezan en 0\n",
        "* Se usan numeros enteros\n",
        "* El indice maximo equivale a la (cantidad de elementos - 1)\n",
        "* Se accede al elemento con *indice*\n",
        "* Si el indice es negativo, se cuenta desde el final\n",
        "* Se puede hacer \"slicing\" con rangos de indices separados por dos puntos (:)\n",
        "* Se pueden usar indices negativos que cuentan desde atrás pero empezando en -1"
      ]
    },
    {
      "cell_type": "code",
      "execution_count": null,
      "metadata": {
        "colab": {},
        "colab_type": "code",
        "id": "Rp5wPcNExLR2"
      },
      "outputs": [],
      "source": [
        "arr1[0]"
      ]
    },
    {
      "cell_type": "code",
      "execution_count": null,
      "metadata": {
        "colab": {},
        "colab_type": "code",
        "id": "ClJghAFvxLR-"
      },
      "outputs": [],
      "source": [
        "arr1[3]"
      ]
    },
    {
      "cell_type": "code",
      "execution_count": null,
      "metadata": {
        "colab": {},
        "colab_type": "code",
        "id": "GXBMPBmkxLSF"
      },
      "outputs": [],
      "source": [
        "arr1[len(arr1)]"
      ]
    },
    {
      "cell_type": "code",
      "execution_count": null,
      "metadata": {
        "colab": {},
        "colab_type": "code",
        "id": "HNv5-mFOxLSM"
      },
      "outputs": [],
      "source": [
        "arr1[len(arr1) - 1]"
      ]
    },
    {
      "cell_type": "code",
      "execution_count": null,
      "metadata": {
        "colab": {},
        "colab_type": "code",
        "id": "3aRTKTMfxLSU"
      },
      "outputs": [],
      "source": [
        "arr1[-1]"
      ]
    },
    {
      "cell_type": "code",
      "execution_count": null,
      "metadata": {
        "colab": {},
        "colab_type": "code",
        "id": "-OnL7X7qxLSc"
      },
      "outputs": [],
      "source": [
        "arr2d = np.array([[1, 2, 3],\n",
        "                  [4, 5, 6],\n",
        "                  [7, 8, 9]])"
      ]
    },
    {
      "cell_type": "code",
      "execution_count": null,
      "metadata": {
        "colab": {},
        "colab_type": "code",
        "id": "CdWsf_fPxLSp"
      },
      "outputs": [],
      "source": [
        "arr2d"
      ]
    },
    {
      "cell_type": "code",
      "execution_count": null,
      "metadata": {
        "colab": {},
        "colab_type": "code",
        "id": "d0BOY-y5xLSv"
      },
      "outputs": [],
      "source": [
        "arr2d[:1]"
      ]
    },
    {
      "cell_type": "code",
      "execution_count": null,
      "metadata": {
        "colab": {},
        "colab_type": "code",
        "id": "59bha9y-xLS2"
      },
      "outputs": [],
      "source": [
        "arr2d[:2, :]"
      ]
    },
    {
      "cell_type": "code",
      "execution_count": null,
      "metadata": {
        "colab": {},
        "colab_type": "code",
        "id": "m-EcqOEJxLS5"
      },
      "outputs": [],
      "source": [
        "arr2d[1, :2]"
      ]
    },
    {
      "cell_type": "code",
      "execution_count": null,
      "metadata": {
        "colab": {},
        "colab_type": "code",
        "id": "KbO7RdGtxLS8"
      },
      "outputs": [],
      "source": [
        "arr2d[:, 1]"
      ]
    },
    {
      "cell_type": "markdown",
      "metadata": {
        "colab_type": "text",
        "id": "aBsjHncpxLTA"
      },
      "source": [
        "## Funciones de agregación\n",
        "\n",
        "Suelen expresarse como métodos del objeto array. En general, tienen como consecuencia disminuir las dimensiones del arreglo y son muy utilizados en matemáticas y física. <br>\n",
        "La siguiente tabla muestra los más utilizados, puede encontrar la documentación [aquí](https://docs.scipy.org/doc/numpy-1.13.0/reference/arrays.ndarray.html#calculation).\n",
        "\n",
        "| Operación | Descripción |\n",
        "|:----------|:------------|\n",
        "| `a.sum()`    | Retorna la suma del arreglo en el eje dado |\n",
        "| `a.min()`    | Retorna el valor mínimo de un eje |\n",
        "| `a.mean()`   | Retorna la media aritmética en un eje dado |\n",
        "| `a.var()`    | Retorna la varianza en un eje dado|\n",
        "| `a.std()`    | Retorna la desviación estándar en un eje dado |\n",
        "| `a.prod()`   | Retorna el producto en un eje dado |\n",
        "| `a.argmin()` | Retorna el índice donde ocurren los valores mínimos de cada eje |\n",
        "| `a.ptp()`    | Valor pico a pico en un eje |\n",
        "| `a.conj()`   | Retorna el conjugado complejo de todos los elementos |\n",
        "| `a.round()`  | Retorna el valor redondeado de cada elemento |\n",
        "| `a.trace()`  | Retorna la suma de las diagonales del arreglo |\n",
        "| `a.argmax()` | Retorna el índice donde ocurren los valores máximos de cada eje |\n",
        "| `a.cumsum()` | Retorna la suma acumulativa en un eje dado |\n",
        "| `a.cumprod()`| Retorna el producto acumulativo en un eje dado |"
      ]
    },
    {
      "cell_type": "code",
      "execution_count": null,
      "metadata": {
        "colab": {},
        "colab_type": "code",
        "id": "sIRZ_CsvxLTA"
      },
      "outputs": [],
      "source": [
        "arr1.mean()"
      ]
    },
    {
      "cell_type": "code",
      "execution_count": null,
      "metadata": {
        "colab": {},
        "colab_type": "code",
        "id": "MZrPXcATxLTE"
      },
      "outputs": [],
      "source": [
        "arr1.std()"
      ]
    },
    {
      "cell_type": "code",
      "execution_count": null,
      "metadata": {
        "colab": {},
        "colab_type": "code",
        "id": "WXIKvNdlxLTH"
      },
      "outputs": [],
      "source": [
        "arr1.shape"
      ]
    },
    {
      "cell_type": "code",
      "execution_count": null,
      "metadata": {
        "colab": {},
        "colab_type": "code",
        "id": "pT9GKcSVxLTL"
      },
      "outputs": [],
      "source": [
        "arr1.size"
      ]
    },
    {
      "cell_type": "code",
      "execution_count": null,
      "metadata": {
        "colab": {},
        "colab_type": "code",
        "id": "v9DveLnvxLTP"
      },
      "outputs": [],
      "source": [
        "arr2 = np.ones((2, 3))\n",
        "arr2"
      ]
    },
    {
      "cell_type": "code",
      "execution_count": null,
      "metadata": {
        "colab": {},
        "colab_type": "code",
        "id": "4qiq5xJQ8LW6"
      },
      "outputs": [],
      "source": [
        "arr1.argmax()"
      ]
    },
    {
      "cell_type": "code",
      "execution_count": null,
      "metadata": {
        "colab": {},
        "colab_type": "code",
        "id": "U83l3jIVxLTS"
      },
      "outputs": [],
      "source": [
        "arr2.shape"
      ]
    },
    {
      "cell_type": "code",
      "execution_count": null,
      "metadata": {
        "colab": {},
        "colab_type": "code",
        "id": "3bciJC6QxLTW"
      },
      "outputs": [],
      "source": [
        "arr2.size"
      ]
    },
    {
      "cell_type": "code",
      "execution_count": null,
      "metadata": {
        "colab": {},
        "colab_type": "code",
        "id": "6v-j-IwDxLTZ"
      },
      "outputs": [],
      "source": [
        "len(arr2)"
      ]
    },
    {
      "cell_type": "markdown",
      "metadata": {
        "colab_type": "text",
        "id": "dtsSUUSXxLTd"
      },
      "source": [
        "## Funciones universales\n",
        "\n",
        "Son funciones optimizadas que operan sobre el array. Dificilmente vamos a necesitar hacer algo que no este ya implementado, la lista completa de funciones universales en este [enlace](https://docs.scipy.org/doc/numpy-1.13.0/reference/ufuncs.html#math-operations)"
      ]
    },
    {
      "cell_type": "markdown",
      "metadata": {
        "colab_type": "text",
        "id": "ULGS-Qy6xLTd"
      },
      "source": [
        "### Funciones para crear ndarrays\n",
        "\n",
        "Hay muchas formas de crear arreglos en Numpy, puede explorarlas todas en este [enlace](https://docs.scipy.org/doc/numpy-1.13.0/reference/routines.array-creation.html). Las más comunes son:\n",
        "\n",
        "| Función | Descripción |\n",
        "|:--------|:------------|\n",
        "| `empty` | Arreglo vacio |\n",
        "| `zeros` | Arreglo de ceros |\n",
        "| `ones`  | Arreglo de unos |\n",
        "| `full`  | Se especifica un valor para llenar todo el arreglo con él |\n",
        "| `identity` | Unos en la diagonal y cero en el resto |\n",
        "| `array` | Constructor genérico |\n",
        "| `fromfunction` | Según una función dada que retorna un valor para cada punto de la coordenada |\n",
        "| `loadtxt` | Carga los datos de un archivo |"
      ]
    },
    {
      "cell_type": "code",
      "execution_count": null,
      "metadata": {
        "colab": {},
        "colab_type": "code",
        "id": "3oqmmTcMxLTe"
      },
      "outputs": [],
      "source": [
        "np.ones(3)"
      ]
    },
    {
      "cell_type": "code",
      "execution_count": null,
      "metadata": {
        "colab": {},
        "colab_type": "code",
        "id": "py63Pi48xLTh"
      },
      "outputs": [],
      "source": [
        "np.full([2,5], fill_value=10)"
      ]
    },
    {
      "cell_type": "markdown",
      "metadata": {
        "colab_type": "text",
        "id": "we6fyUhF4TU8"
      },
      "source": [
        "# Ejercicios"
      ]
    },
    {
      "cell_type": "markdown",
      "metadata": {
        "colab_type": "text",
        "id": "SYvqbJHa4U5b"
      },
      "source": [
        "\n",
        "\n",
        "1.   Crear un array de 100 números aleatorios con valores de -100 a +100. \n",
        "\n",
        "\n",
        "\n",
        "\n",
        "\n"
      ]
    },
    {
      "cell_type": "code",
      "execution_count": 12,
      "metadata": {
        "colab": {},
        "colab_type": "code",
        "id": "u5qG2KWP4pel"
      },
      "outputs": [
        {
          "name": "stdout",
          "output_type": "stream",
          "text": [
            "[  75   86  -22   52   14    7  -82  -66   82   93  -75   48  -75  -67\n",
            "    9    1   12   36  -74  -81   64  -12  -96  -73   40  -46  -77   90\n",
            "   41  -34   88   15   75  -96   22  -35   16   87  -21   52   59  -98\n",
            "  -18   26  -24  -87  -64   21  -56  -16  -18   50   86  -59   78  -38\n",
            "  -69  -94  -11   69  -80  -71  -12   75  -14   25  -96  -95  -74    2\n",
            "  -75   82   61   -1   63  -79  -90   38   22   -4  -49  -12   -4   26\n",
            "  -37   33  -33   70  -11  -46   16  -16  -25   38  -66 -100  -83  -50\n",
            "   24   52]\n"
          ]
        }
      ],
      "source": [
        "aleatorio = np.random.randint(-100, 101, size=100)\n",
        "print(aleatorio)"
      ]
    },
    {
      "cell_type": "markdown",
      "metadata": {
        "colab_type": "text",
        "id": "v1F35TCC4qAv"
      },
      "source": [
        "\n",
        "2.   Usando arrays de booleanos crear otros 3 arrays que contengan los positivos, los negativos y los mayores de 50 de ese array."
      ]
    },
    {
      "cell_type": "code",
      "execution_count": 18,
      "metadata": {
        "colab": {},
        "colab_type": "code",
        "id": "yc_DUCQn4q2V"
      },
      "outputs": [
        {
          "data": {
            "text/plain": [
              "dtype('int32')"
            ]
          },
          "execution_count": 18,
          "metadata": {},
          "output_type": "execute_result"
        }
      ],
      "source": [
        "aleatorio[aleatorio < 0]\n",
        "aleatorio[aleatorio > 0]\n",
        "aleatorio[aleatorio > 50]"
      ]
    },
    {
      "cell_type": "markdown",
      "metadata": {
        "colab_type": "text",
        "id": "zg5a3cB54zgf"
      },
      "source": [
        "3.   Crear un array bidimensional 5x5 con todos los valores cero. Usando el indexado de arrays, asigna 1 a todos los elementos de la última fila y 5 a todos los elementos de la primera columna. Finalmente, asigna el valor 100 a todos los elementos del subarray central 3x3 de la matriz de 5x5."
      ]
    },
    {
      "cell_type": "code",
      "execution_count": 68,
      "metadata": {
        "colab": {},
        "colab_type": "code",
        "id": "eNxFHLgI7aAH"
      },
      "outputs": [
        {
          "name": "stdout",
          "output_type": "stream",
          "text": [
            "[[  5.   0.   0.   0.   0.]\n",
            " [  5. 100. 100. 100.   0.]\n",
            " [  5. 100. 100. 100.   0.]\n",
            " [  5. 100. 100. 100.   0.]\n",
            " [  5.   1.   1.   1.   1.]]\n"
          ]
        }
      ],
      "source": [
        "ceros = np.zeros((5,5))\n",
        "ceros[-1] = 1\n",
        "ceros[:,0] = 5\n",
        "ceros[1:4,1:4] = 100\n",
        "\n",
        "print(ceros)"
      ]
    },
    {
      "cell_type": "markdown",
      "metadata": {
        "colab_type": "text",
        "id": "K3b5dKsn7jEO"
      },
      "source": [
        "4.   Crear una matriz de 10 x 3 con valores aleatorios entre cero y uno\n",
        "\n"
      ]
    },
    {
      "cell_type": "code",
      "execution_count": 48,
      "metadata": {
        "colab": {},
        "colab_type": "code",
        "id": "bXR3mAkY7xJr"
      },
      "outputs": [
        {
          "name": "stdout",
          "output_type": "stream",
          "text": [
            "[[0.83058988 0.86289161 0.40580095]\n",
            " [0.63151531 0.3868954  0.9321215 ]\n",
            " [0.52353743 0.00728304 0.1488366 ]\n",
            " [0.50226758 0.77489473 0.82101033]\n",
            " [0.05663569 0.4770187  0.35552111]\n",
            " [0.25967524 0.49853093 0.27900096]\n",
            " [0.64426718 0.84134444 0.54962764]\n",
            " [0.61257992 0.15197866 0.06246517]\n",
            " [0.56012632 0.89099365 0.08004839]\n",
            " [0.67109312 0.23828221 0.1021344 ]]\n"
          ]
        }
      ],
      "source": [
        "aleatorio_2 = np.random.rand(10,3)\n",
        "print(aleatorio_2)"
      ]
    },
    {
      "cell_type": "markdown",
      "metadata": {
        "colab_type": "text",
        "id": "oMjbP0N07xhf"
      },
      "source": [
        "\n",
        "5.   Buscar el valor mínimo de la matriz"
      ]
    },
    {
      "cell_type": "code",
      "execution_count": 51,
      "metadata": {
        "colab": {},
        "colab_type": "code",
        "id": "kMBMIAlr73Az"
      },
      "outputs": [
        {
          "data": {
            "text/plain": [
              "array([0.05663569, 0.00728304, 0.06246517])"
            ]
          },
          "execution_count": 51,
          "metadata": {},
          "output_type": "execute_result"
        }
      ],
      "source": [
        "aleatorio_2.min()"
      ]
    },
    {
      "cell_type": "markdown",
      "metadata": {
        "colab_type": "text",
        "id": "XAW8IQgO73WL"
      },
      "source": [
        "6.   Buscar la posición (indice) del valor mínimo de la matriz"
      ]
    },
    {
      "cell_type": "code",
      "execution_count": 64,
      "metadata": {
        "colab": {},
        "colab_type": "code",
        "id": "iaMPaBPw77QZ"
      },
      "outputs": [
        {
          "name": "stdout",
          "output_type": "stream",
          "text": [
            "7\n"
          ]
        },
        {
          "data": {
            "text/plain": [
              "(1, 1)"
            ]
          },
          "execution_count": 64,
          "metadata": {},
          "output_type": "execute_result"
        }
      ],
      "source": [
        "print(aleatorio_2.argmin())\n",
        "np.unravel_index(aleatorio_2.argmin(), aleatorio_2.shape)"
      ]
    },
    {
      "cell_type": "code",
      "execution_count": 70,
      "metadata": {},
      "outputs": [
        {
          "ename": "NameError",
          "evalue": "name 'CreateEnvironmentBlock' is not defined",
          "output_type": "error",
          "traceback": [
            "\u001b[1;31m---------------------------------------------------------------------------\u001b[0m",
            "\u001b[1;31mNameError\u001b[0m                                 Traceback (most recent call last)",
            "\u001b[1;32mc:\\Users\\rodri\\OneDrive\\Documentos\\GitHub\\LAB 2\\DMA_LAB2\\tutoriales\\03_manejo_de_datos-numpy.ipynb Cell 67\u001b[0m in \u001b[0;36m<cell line: 1>\u001b[1;34m()\u001b[0m\n\u001b[1;32m----> <a href='vscode-notebook-cell:/c%3A/Users/rodri/OneDrive/Documentos/GitHub/LAB%202/DMA_LAB2/tutoriales/03_manejo_de_datos-numpy.ipynb#Y124sZmlsZQ%3D%3D?line=0'>1</a>\u001b[0m CreateEnvironmentBlock\n",
            "\u001b[1;31mNameError\u001b[0m: name 'CreateEnvironmentBlock' is not defined"
          ]
        }
      ],
      "source": [
        "CreateEnvironmentBlock"
      ]
    }
  ],
  "metadata": {
    "colab": {
      "include_colab_link": true,
      "name": "03_manejo_de_datos-numpy.ipynb",
      "provenance": []
    },
    "kernelspec": {
      "display_name": "Python 3",
      "name": "python3"
    },
    "language_info": {
      "codemirror_mode": {
        "name": "ipython",
        "version": 3
      },
      "file_extension": ".py",
      "mimetype": "text/x-python",
      "name": "python",
      "nbconvert_exporter": "python",
      "pygments_lexer": "ipython3",
      "version": "3.10.11"
    },
    "orig_nbformat": 2
  },
  "nbformat": 4,
  "nbformat_minor": 0
}
